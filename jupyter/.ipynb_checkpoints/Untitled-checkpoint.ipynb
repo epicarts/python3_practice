{
 "cells": [
  {
   "cell_type": "markdown",
   "metadata": {},
   "source": [
    "# 단층 퍼셉트론 "
   ]
  },
  {
   "cell_type": "markdown",
   "metadata": {},
   "source": [
    "# 1. AND 게이트"
   ]
  },
  {
   "cell_type": "code",
   "execution_count": 93,
   "metadata": {},
   "outputs": [],
   "source": [
    "from pandas import DataFrame\n",
    "import numpy as np"
   ]
  },
  {
   "cell_type": "code",
   "execution_count": 6,
   "metadata": {},
   "outputs": [],
   "source": [
    "x1 = [0,0,1,1] # 1 번째 인풋 값\n",
    "x2 = [0,1,0,1] # 2 번째 인풋 값"
   ]
  },
  {
   "cell_type": "code",
   "execution_count": 7,
   "metadata": {},
   "outputs": [],
   "source": [
    "and_data = {'x1': [0, 0, 1, 1]\n",
    "           ,'x2': [0, 1, 0, 1]\n",
    "           ,'y': [0, 0, 0, 1]}"
   ]
  },
  {
   "cell_type": "code",
   "execution_count": 10,
   "metadata": {},
   "outputs": [],
   "source": [
    "df_and = DataFrame(and_data)"
   ]
  },
  {
   "cell_type": "code",
   "execution_count": 12,
   "metadata": {},
   "outputs": [
    {
     "data": {
      "text/html": [
       "<div>\n",
       "<style scoped>\n",
       "    .dataframe tbody tr th:only-of-type {\n",
       "        vertical-align: middle;\n",
       "    }\n",
       "\n",
       "    .dataframe tbody tr th {\n",
       "        vertical-align: top;\n",
       "    }\n",
       "\n",
       "    .dataframe thead th {\n",
       "        text-align: right;\n",
       "    }\n",
       "</style>\n",
       "<table border=\"1\" class=\"dataframe\">\n",
       "  <thead>\n",
       "    <tr style=\"text-align: right;\">\n",
       "      <th></th>\n",
       "      <th>x1</th>\n",
       "      <th>x2</th>\n",
       "      <th>y</th>\n",
       "    </tr>\n",
       "  </thead>\n",
       "  <tbody>\n",
       "    <tr>\n",
       "      <th>0</th>\n",
       "      <td>0</td>\n",
       "      <td>0</td>\n",
       "      <td>0</td>\n",
       "    </tr>\n",
       "    <tr>\n",
       "      <th>1</th>\n",
       "      <td>0</td>\n",
       "      <td>1</td>\n",
       "      <td>0</td>\n",
       "    </tr>\n",
       "    <tr>\n",
       "      <th>2</th>\n",
       "      <td>1</td>\n",
       "      <td>0</td>\n",
       "      <td>0</td>\n",
       "    </tr>\n",
       "    <tr>\n",
       "      <th>3</th>\n",
       "      <td>1</td>\n",
       "      <td>1</td>\n",
       "      <td>1</td>\n",
       "    </tr>\n",
       "  </tbody>\n",
       "</table>\n",
       "</div>"
      ],
      "text/plain": [
       "   x1  x2  y\n",
       "0   0   0  0\n",
       "1   0   1  0\n",
       "2   1   0  0\n",
       "3   1   1  1"
      ]
     },
     "execution_count": 12,
     "metadata": {},
     "output_type": "execute_result"
    }
   ],
   "source": [
    "df_and #and 데이터 프레임 생성"
   ]
  },
  {
   "attachments": {},
   "cell_type": "markdown",
   "metadata": {},
   "source": [
    "# 2. 파이썬으로 AND 게이트 만들기(임계값(θ)을 이용)\n",
    "\n",
    "만약 y = 0 이면, (w1 * x1) + (w2 * x2) <= 임계값(theata)\n",
    "\n",
    "만약 y = 1 이면, (w1 * x1) + (w2 * x2) > 임계값(theata)\n",
    "\n",
    "임계값에 미달 될 경우 0을 출력, \n",
    "임계값을 초과 할 경우 1을 출력"
   ]
  },
  {
   "cell_type": "code",
   "execution_count": 548,
   "metadata": {},
   "outputs": [
    {
     "name": "stdout",
     "output_type": "stream",
     "text": [
      "0\n",
      "0\n",
      "0\n",
      "1\n"
     ]
    }
   ],
   "source": [
    "def and_gate_theta(x1, x2):#numpy 를 사용하지 않고\n",
    "    w1, w2, theta = 0.5, 0.5, 0.7 #가중치(W)는 다양한 값이 나올 수 있음.(0.5, 0.5, 0.8) 등등\n",
    "    sigma = (w1*x1) + (w2*x2)# y 값 계산\n",
    "    if sigma <= theta: #임계값에 미달 될 경우\n",
    "        return 0\n",
    "    elif sigma > theta: #임계값 이상이 될 경우\n",
    "        return 1\n",
    "print(and_gate(0,0))\n",
    "print(and_gate(0,1))\n",
    "print(and_gate(1,0))\n",
    "print(and_gate(1,1))"
   ]
  },
  {
   "cell_type": "markdown",
   "metadata": {},
   "source": [
    "# 3. 파이썬으로 AND 게이트 만들기(편향(bais)을 이용)\n",
    "임계값(theata)를 -b 로 치환,\n",
    "\n",
    "만약 y = 0 이면, (w1*x1) + (w2*x2) + b <= 0 \n",
    "\n",
    "만약 y = 1 이면, (w1*x1) + (w2*x2) + b > 0 \n",
    "\n",
    "으로 변경이 가능함. 여기서 b를 편향(bias)이라고 함.\n",
    "\n",
    "즉, (입력신호 X 가중치 + 편향)을 계산했을 때, 값이 0을 넘으면 1, 아니면 0을 출력한다.\n"
   ]
  },
  {
   "cell_type": "code",
   "execution_count": 551,
   "metadata": {},
   "outputs": [
    {
     "name": "stdout",
     "output_type": "stream",
     "text": [
      "0\n",
      "0\n",
      "0\n",
      "1\n"
     ]
    }
   ],
   "source": [
    "def and_gate_bais(x1, x2):\n",
    "    w1, w2, theta = 0.5, 0.5, 0.7 #가중치(W)는 다양한 값이 나올 수 있음.(0.5, 0.5, 0.8) 등등\n",
    "    b = -theta# 임계값을 -b로 치환함.\n",
    "    sigma = b + (w1*x1) + (w2*x2)\n",
    "    if sigma <= 0:\n",
    "        return 0\n",
    "    elif sigma > 0:\n",
    "        return 1\n",
    "# 0.7이 bias 0보다 커야함\n",
    "print(and_gate_bais(0,0))\n",
    "print(and_gate_bais(0,1))\n",
    "print(and_gate_bais(1,0))\n",
    "print(and_gate_bais(1,1))"
   ]
  },
  {
   "cell_type": "markdown",
   "metadata": {},
   "source": [
    "# 4. 계단 함수(활성화 함수) 만들기\n",
    "신경망에서는 보통의 퍼셉트론과 달리 활성화 함수를 사용한다.\n",
    "\n",
    "퍼셉트론 함수는 0 or 1만을 출력 하는데, 이를 활성화 함수로 표현하면 \n",
    "\n",
    "계단함수로 표현 할 수 있다."
   ]
  },
  {
   "cell_type": "code",
   "execution_count": 589,
   "metadata": {},
   "outputs": [],
   "source": [
    "import matplotlib.pyplot as plt\n",
    "import numpy as np"
   ]
  },
  {
   "cell_type": "code",
   "execution_count": 590,
   "metadata": {},
   "outputs": [],
   "source": [
    "x = np.arange(-3.0, 3.0, 0.01)# -3 ~ 3 까지 0.01 간격으로 numpy 리스트 생성\n",
    "def step_activation_fun(z):#계단 함수\n",
    "    y = x > 0 #거짓이면 False, 참이면 True\n",
    "    return y.astype(np.int)#데이터 형 (False,Ture)를 (0,1)형태로 변환"
   ]
  },
  {
   "cell_type": "code",
   "execution_count": 591,
   "metadata": {
    "scrolled": true
   },
   "outputs": [
    {
     "data": {
      "text/plain": [
       "[<matplotlib.lines.Line2D at 0x2330f5e3ef0>]"
      ]
     },
     "execution_count": 591,
     "metadata": {},
     "output_type": "execute_result"
    },
    {
     "data": {
      "image/png": "[encoded data removed]",
      "text/plain": [
       "<Figure size 432x288 with 1 Axes>"
      ]
     },
     "metadata": {},
     "output_type": "display_data"
    }
   ],
   "source": [
    "plt.plot(x,step_activation_fun(x))#계단 활성화 함수 그리기"
   ]
  },
  {
   "cell_type": "code",
   "execution_count": null,
   "metadata": {},
   "outputs": [],
   "source": []
  },
  {
   "cell_type": "code",
   "execution_count": 167,
   "metadata": {},
   "outputs": [],
   "source": [
    "def and_gate_numpy(x1, x2):#numpy를 사용하고 편향추가 시킴\n",
    "    x = np.array([x1, x2])#x 값을 배열로 변환 1 X 2\n",
    "    w = np.array([0.5, 0.5])# w 값\n",
    "    theta = np.array([0])\n",
    "    b = -0.7 # 편향\n",
    "    y = np.sum(w*x) + b\n",
    "    if y <= theta:\n",
    "        return 0\n",
    "    elif y > theta:\n",
    "        return 1"
   ]
  },
  {
   "cell_type": "code",
   "execution_count": 45,
   "metadata": {},
   "outputs": [
    {
     "name": "stdout",
     "output_type": "stream",
     "text": [
      "실제 값: 0 / 예측 값: 0\n",
      "실제 값: 0 / 예측 값: 0\n",
      "실제 값: 0 / 예측 값: 0\n",
      "실제 값: 1 / 예측 값: 1\n"
     ]
    }
   ],
   "source": [
    "for row in df_and.iterrows():# df_and 데이터에서 한 행씩 가져오기\n",
    "    pred_y = and_gate(row[1].x1, row[1].x2)\n",
    "    print(\"실제 값:\",row[1].y,\"/ 예측 값:\", pred_y)"
   ]
  },
  {
   "cell_type": "markdown",
   "metadata": {},
   "source": [
    "# 2. AND 게이트를 그래프로 그려보자"
   ]
  },
  {
   "cell_type": "code",
   "execution_count": 585,
   "metadata": {},
   "outputs": [],
   "source": [
    "import matplotlib.pyplot as plt"
   ]
  },
  {
   "cell_type": "code",
   "execution_count": 587,
   "metadata": {},
   "outputs": [],
   "source": [
    "fig.set_size_inches(6, 6)# 크기 셋팅"
   ]
  },
  {
   "cell_type": "code",
   "execution_count": 588,
   "metadata": {},
   "outputs": [
    {
     "data": {
      "text/plain": [
       "Text(0.5,1,'AND GATE')"
      ]
     },
     "execution_count": 588,
     "metadata": {},
     "output_type": "execute_result"
    }
   ],
   "source": [
    "ax = fig.add_subplot(1, 1, 1) # 1X1 그리드에 1번째 subplot 생성\n",
    "ax.set_xlim([-0.5, 1.5])\n",
    "ax.set_ylim([-0.5, 1.5])\n",
    "ax.set_title('AND GATE')"
   ]
  },
  {
   "cell_type": "code",
   "execution_count": 533,
   "metadata": {},
   "outputs": [
    {
     "data": {
      "text/plain": [
       "<matplotlib.collections.PathCollection at 0x2330f4c65c0>"
      ]
     },
     "execution_count": 533,
     "metadata": {},
     "output_type": "execute_result"
    }
   ],
   "source": [
    "ax.scatter(df_and.x1,df_and.x2,c='r',marker='x')# (X1, X2) 값 그리기\n",
    "ax.scatter(a2,y,c='b',linestyle=\"--\")"
   ]
  },
  {
   "cell_type": "code",
   "execution_count": 608,
   "metadata": {},
   "outputs": [],
   "source": [
    "def fun_test(x1, x2):\n",
    "    w1, w2, b = 0.5, 0.5, -0.7\n",
    "    # y 값 계산\n",
    "    return y"
   ]
  },
  {
   "cell_type": "code",
   "execution_count": 535,
   "metadata": {},
   "outputs": [],
   "source": [
    "a1 = np.arange(-0.5, 1.5, 0.1)\n",
    "a2 = np.arange(1.5, -0.5, -0.1)"
   ]
  },
  {
   "cell_type": "code",
   "execution_count": 536,
   "metadata": {},
   "outputs": [],
   "source": [
    "y = fun_test(a2,0)"
   ]
  },
  {
   "cell_type": "code",
   "execution_count": 537,
   "metadata": {},
   "outputs": [
    {
     "data": {
      "text/plain": [
       "array([1.45, 1.4 , 1.35, 1.3 , 1.25, 1.2 , 1.15, 1.1 , 1.05, 1.  , 0.95,\n",
       "       0.9 , 0.85, 0.8 , 0.75, 0.7 , 0.65, 0.6 , 0.55, 0.5 ])"
      ]
     },
     "execution_count": 537,
     "metadata": {},
     "output_type": "execute_result"
    }
   ],
   "source": [
    "y"
   ]
  },
  {
   "cell_type": "code",
   "execution_count": 523,
   "metadata": {},
   "outputs": [],
   "source": [
    "line_x = np.arange(0,1,0.01)"
   ]
  },
  {
   "cell_type": "code",
   "execution_count": 753,
   "metadata": {
    "scrolled": false
   },
   "outputs": [],
   "source": [
    "# Axes3D 객체를 생성 후 3차원 그래프를 그리는 멤버함수 호출방식\n",
    "import matplotlib.pyplot as plt\n",
    "from mpl_toolkits.mplot3d import Axes3D\n",
    "\n",
    "def show_perceptron(w1 = 0.5, w2 = 0.5, b = -0.7):\n",
    "    fig = plt.figure()#그림 생성\n",
    "    ax = fig.add_subplot(111, projection='3d') \n",
    "    #fig.set_size_inches(6, 6, 6)# 크기 셋팅\n",
    "    X1 = np.arange(0.0, 1.0, 0.01) \n",
    "    X2 = np.arange(0.0, 1.0, 0.01) \n",
    "    X1, X2 = np.meshgrid(X1, X2) \n",
    "    Z = b + X1*w1 + X2*w2\n",
    "    \n",
    "    # Plot the surface. \n",
    "    ax.plot_surface(X1, X2, Z, linewidth=0)\n",
    "    \n",
    "    # Y가 0일때. b + W1X1 + W2X2 = 0\n",
    "    ax.plot_surface(X1, X2, np.zeros([1,1]), linewidth=1)\n",
    "\n",
    "    ax.set_xlim([0, 1])\n",
    "    ax.set_ylim([0, 1])\n",
    "    ax.set_zlim([-1, 1])\n",
    "    ax.set_xlabel('X1')\n",
    "    ax.set_ylabel('X2')\n",
    "    ax.set_zlabel('Y')\n",
    "\n",
    "    ax.invert_xaxis()\n",
    "    ax.scatter(0, 0, (w1*0) + (w2*0) + b, c='r', marker='x')#계단 함수 적용전\n",
    "    ax.scatter(0, 1, (w1*0) + (w2*1) + b, c='r', marker='x')#계단 함수 적용전\n",
    "    ax.scatter(1, 0, (w1*1) + (w2*0) + b, c='r', marker='x')#계단 함수 적용전\n",
    "    ax.scatter(1, 1, (w1*1) + (w2*1) + b, c='r', marker='o')#계단 함수 적용전\n",
    "    \n",
    "    #ax.scatter(0, 0, and_gate_bais(0,0), c='b', marker='x')#계단 함수 적용\n",
    "    #ax.scatter(0, 1, and_gate_bais(0,1), c='b', marker='x')#계단 함수 적용\n",
    "    #ax.scatter(1, 0, and_gate_bais(1,0), c='b', marker='x')#계단 함수 적용\n",
    "    #ax.scatter(1, 1, and_gate_bais(1,1), c='b', marker='o')#계단 함수 적용\n",
    "\n",
    "    plt.show() "
   ]
  },
  {
   "cell_type": "code",
   "execution_count": 754,
   "metadata": {},
   "outputs": [
    {
     "data": {
      "image/png": "[encoded data removed]",
      "text/plain": [
       "<Figure size 432x288 with 1 Axes>"
      ]
     },
     "metadata": {},
     "output_type": "display_data"
    }
   ],
   "source": [
    "show_perceptron()"
   ]
  },
  {
   "cell_type": "code",
   "execution_count": 764,
   "metadata": {
    "scrolled": true
   },
   "outputs": [
    {
     "data": {
      "text/plain": [
       "array([0.  , 0.01, 0.02, 0.03, 0.04, 0.05, 0.06, 0.07, 0.08, 0.09, 0.1 ,\n",
       "       0.11, 0.12, 0.13, 0.14, 0.15, 0.16, 0.17, 0.18, 0.19, 0.2 , 0.21,\n",
       "       0.22, 0.23, 0.24, 0.25, 0.26, 0.27, 0.28, 0.29, 0.3 , 0.31, 0.32,\n",
       "       0.33, 0.34, 0.35, 0.36, 0.37, 0.38, 0.39, 0.4 , 0.41, 0.42, 0.43,\n",
       "       0.44, 0.45, 0.46, 0.47, 0.48, 0.49, 0.5 , 0.51, 0.52, 0.53, 0.54,\n",
       "       0.55, 0.56, 0.57, 0.58, 0.59, 0.6 , 0.61, 0.62, 0.63, 0.64, 0.65,\n",
       "       0.66, 0.67, 0.68, 0.69, 0.7 , 0.71, 0.72, 0.73, 0.74, 0.75, 0.76,\n",
       "       0.77, 0.78, 0.79, 0.8 , 0.81, 0.82, 0.83, 0.84, 0.85, 0.86, 0.87,\n",
       "       0.88, 0.89, 0.9 , 0.91, 0.92, 0.93, 0.94, 0.95, 0.96, 0.97, 0.98,\n",
       "       0.99])"
      ]
     },
     "execution_count": 764,
     "metadata": {},
     "output_type": "execute_result"
    }
   ],
   "source": [
    "X = np.arange(0.0, 1.0, 0.01) \n",
    "Y = np.arange(0.0, 1.0, 0.01) \n",
    "Y\n"
   ]
  },
  {
   "cell_type": "code",
   "execution_count": 767,
   "metadata": {},
   "outputs": [
    {
     "ename": "MemoryError",
     "evalue": "",
     "output_type": "error",
     "traceback": [
      "\u001b[1;31m---------------------------------------------------------------------------\u001b[0m",
      "\u001b[1;31mMemoryError\u001b[0m                               Traceback (most recent call last)",
      "\u001b[1;32m<ipython-input-767-13b642071e31>\u001b[0m in \u001b[0;36m<module>\u001b[1;34m()\u001b[0m\n\u001b[1;32m----> 1\u001b[1;33m \u001b[0mX\u001b[0m\u001b[1;33m,\u001b[0m \u001b[0mY\u001b[0m \u001b[1;33m=\u001b[0m \u001b[0mnp\u001b[0m\u001b[1;33m.\u001b[0m\u001b[0mmeshgrid\u001b[0m\u001b[1;33m(\u001b[0m\u001b[0mX\u001b[0m\u001b[1;33m,\u001b[0m \u001b[0mY\u001b[0m\u001b[1;33m)\u001b[0m\u001b[1;33m\u001b[0m\u001b[0m\n\u001b[0m\u001b[0;32m      2\u001b[0m \u001b[0mnp\u001b[0m\u001b[1;33m.\u001b[0m\u001b[0mshape\u001b[0m\u001b[1;33m(\u001b[0m\u001b[0mY\u001b[0m\u001b[1;33m)\u001b[0m\u001b[1;33m\u001b[0m\u001b[0m\n",
      "\u001b[1;32m~\\AppData\\Local\\Programs\\Python\\Python36\\lib\\site-packages\\numpy\\lib\\function_base.py\u001b[0m in \u001b[0;36mmeshgrid\u001b[1;34m(*xi, **kwargs)\u001b[0m\n\u001b[0;32m   4696\u001b[0m \u001b[1;33m\u001b[0m\u001b[0m\n\u001b[0;32m   4697\u001b[0m     \u001b[1;32mif\u001b[0m \u001b[0mcopy_\u001b[0m\u001b[1;33m:\u001b[0m\u001b[1;33m\u001b[0m\u001b[0m\n\u001b[1;32m-> 4698\u001b[1;33m         \u001b[0moutput\u001b[0m \u001b[1;33m=\u001b[0m \u001b[1;33m[\u001b[0m\u001b[0mx\u001b[0m\u001b[1;33m.\u001b[0m\u001b[0mcopy\u001b[0m\u001b[1;33m(\u001b[0m\u001b[1;33m)\u001b[0m \u001b[1;32mfor\u001b[0m \u001b[0mx\u001b[0m \u001b[1;32min\u001b[0m \u001b[0moutput\u001b[0m\u001b[1;33m]\u001b[0m\u001b[1;33m\u001b[0m\u001b[0m\n\u001b[0m\u001b[0;32m   4699\u001b[0m \u001b[1;33m\u001b[0m\u001b[0m\n\u001b[0;32m   4700\u001b[0m     \u001b[1;32mreturn\u001b[0m \u001b[0moutput\u001b[0m\u001b[1;33m\u001b[0m\u001b[0m\n",
      "\u001b[1;32m~\\AppData\\Local\\Programs\\Python\\Python36\\lib\\site-packages\\numpy\\lib\\function_base.py\u001b[0m in \u001b[0;36m<listcomp>\u001b[1;34m(.0)\u001b[0m\n\u001b[0;32m   4696\u001b[0m \u001b[1;33m\u001b[0m\u001b[0m\n\u001b[0;32m   4697\u001b[0m     \u001b[1;32mif\u001b[0m \u001b[0mcopy_\u001b[0m\u001b[1;33m:\u001b[0m\u001b[1;33m\u001b[0m\u001b[0m\n\u001b[1;32m-> 4698\u001b[1;33m         \u001b[0moutput\u001b[0m \u001b[1;33m=\u001b[0m \u001b[1;33m[\u001b[0m\u001b[0mx\u001b[0m\u001b[1;33m.\u001b[0m\u001b[0mcopy\u001b[0m\u001b[1;33m(\u001b[0m\u001b[1;33m)\u001b[0m \u001b[1;32mfor\u001b[0m \u001b[0mx\u001b[0m \u001b[1;32min\u001b[0m \u001b[0moutput\u001b[0m\u001b[1;33m]\u001b[0m\u001b[1;33m\u001b[0m\u001b[0m\n\u001b[0m\u001b[0;32m   4699\u001b[0m \u001b[1;33m\u001b[0m\u001b[0m\n\u001b[0;32m   4700\u001b[0m     \u001b[1;32mreturn\u001b[0m \u001b[0moutput\u001b[0m\u001b[1;33m\u001b[0m\u001b[0m\n",
      "\u001b[1;31mMemoryError\u001b[0m: "
     ]
    }
   ],
   "source": [
    "X, Y = np.meshgrid(X, Y) \n"
   ]
  },
  {
   "cell_type": "markdown",
   "metadata": {},
   "source": [
    "# 2. NAND, OR 게이트"
   ]
  },
  {
   "cell_type": "code",
   "execution_count": null,
   "metadata": {},
   "outputs": [],
   "source": [
    "def and_gate_numpy(x1, x2):#매게 변수 부호를 전부 반전 하면됨.\n",
    "    w1, w2, theta = -0.5, -0.5, -0.7\n",
    "    y = x1*w1 +xw"
   ]
  }
 ],
 "metadata": {
  "kernelspec": {
   "display_name": "Python 3",
   "language": "python",
   "name": "python3"
  },
  "language_info": {
   "codemirror_mode": {
    "name": "ipython",
    "version": 3
   },
   "file_extension": ".py",
   "mimetype": "text/x-python",
   "name": "python",
   "nbconvert_exporter": "python",
   "pygments_lexer": "ipython3",
   "version": "3.6.5"
  }
 },
 "nbformat": 4,
 "nbformat_minor": 2
}
